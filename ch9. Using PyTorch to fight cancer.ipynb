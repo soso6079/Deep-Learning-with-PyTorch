{
 "cells": [
  {
   "cell_type": "markdown",
   "source": [
    "# Ch 9. Using PyTorch to fight cancer\n",
    "\n",
    "### CT 스캔이란\n",
    "\n",
    "---\n",
    "\n",
    "CT 스캔은 단일 채널의 3차원 배열로 표현되는 '3차원 X-ray'라고 볼 수 있다. 즉, 흑백 PNG 이미지를 차곡차곡 쌓아놓은 것과 흡사하다.\n",
    "\n",
    "> Voxel은 2차원 픽셀의 3차원 버전이라고 생각하면 된다. 면적이 아닌 공간 용적을 담고 있으며(VOlumetric piXEL) 이를 3차원 격자로 표현한다. 각 차원 내에서는 거리를 측정할 수 있다. CT 스캔 외에도 유체(fluid) 시뮬레이션, LIDAR(LIght Detection and Ranging) 등에서도 voxel 데이터를 사용한다.\n",
    "\n",
    "CT 스캔 내의 voxel은 해당 위치에 있는 물체의 평균 질량 밀도를 숫자 값으로 나타낸다. 이를 시각화하면 밀도가 높은 뼈 등은 하얀색으로 보이고 밀도가 낮은 공기나 폐 조직은 검게 보인다.\n",
    "\n",
    "\n",
    "위에 있는 사진이 2차원에 투영한 결과다. 반대로 3차원 데이터를 그대로 사용해서 밑에 있는 사진처럼 뼈와 폐조직만 나타낼 수도 있다. 즉, 관심 없는 조직을 숨기고 대상의 내부를 들여다 볼 수 있다.\n",
    "\n",
    "![image.png](assets/ct2.png)\n",
    "\n",
    "![image.png](assets/ct.png)"
   ],
   "metadata": {
    "collapsed": false,
    "pycharm": {
     "name": "#%% md\n"
    }
   }
  },
  {
   "cell_type": "markdown",
   "source": [
    "## 프로젝트: 엔드투엔드 폐암 진단\n",
    "\n",
    "프로젝트 아키텍처를 나타내면 아래 그림과 같다. 스캔 데이터를 얻는 것부터 폐암 진단을 내리기까지 크게 5단계를 거친다.\n",
    "\n",
    "1. CT 데이터 파일을 읽고 파이토치가 읽을 수 있는 형태로 전처리한 다음\n",
    "2. 3차원 스캔 데이터를 **세그멘테이션**(**Segmentation**)(관심있는 복셀을 표시하기)을 수행하는 모듈과 결합한 뒤\n",
    "3. 이를 후보 결절들끼리 그룹화 하고\n",
    "4. 분류한 다음\n",
    "5. 결절(nodule)로 보이는 것을 찾는다.\n",
    "\n",
    "![sol.png](assets/sol-.png?t=1663052657721)"
   ],
   "metadata": {
    "collapsed": false,
    "pycharm": {
     "name": "#%% md\n"
    }
   }
  },
  {
   "cell_type": "markdown",
   "source": [],
   "metadata": {
    "collapsed": false,
    "pycharm": {
     "name": "#%% md\n"
    }
   }
  }
 ],
 "metadata": {
  "kernelspec": {
   "display_name": "Python 3",
   "language": "python",
   "name": "python3"
  },
  "language_info": {
   "codemirror_mode": {
    "name": "ipython",
    "version": 2
   },
   "file_extension": ".py",
   "mimetype": "text/x-python",
   "name": "python",
   "nbconvert_exporter": "python",
   "pygments_lexer": "ipython2",
   "version": "2.7.6"
  }
 },
 "nbformat": 4,
 "nbformat_minor": 0
}