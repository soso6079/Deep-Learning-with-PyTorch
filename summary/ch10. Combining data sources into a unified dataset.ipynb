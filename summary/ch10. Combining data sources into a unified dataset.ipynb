{
 "cells": [
  {
   "cell_type": "markdown",
   "source": [
    "# ch10. Combining data sources into a unified dataset\n",
    "---\n",
    ">- `raw` 데이터 처리하기\n",
    ">- 데이터를 표현하는 파이썬 클래스 구현\n",
    ">- 데이터를 PyTorch에서 사용할 수 있게 변환\n",
    ">- train 데이터와 validation 데이터를 시각화\n",
    "\n",
    "내려받은 CT 데이터 파일은 `.mhd` 파일과 `.raw`파일로 구성되있다. `.mhd` 파일은 메타 데이터 정보를 담고 있고 `.raw` 파일은 3D 배열로 만들어져 있다.\n",
    "\n",
    "우리가 만들 `Ct` 클래스는 이 두가지 파일을 받아서 3차원 배열과 환자 좌표계를 index, row, column 좌표로 바꿔주는 matrix도 만든다.\n",
    "\n",
    "annotations.csv 파일과 candidates.csv 파일을 들여다보자.\n",
    "\n",
    "먼저 candidates.csv 파일에는 결절처럼 보이는 모든 조직 덩어리에 대한 정보가 들어있다.\n",
    "551,000 줄이 `seriesuid`, `(X,Y,Z) coordinates`, `class`을 나타낸다. `class`가 1인 행이 결절 혹은 악성인 경우다. 1인 행은 1,351 개가 있다.\n",
    "\n",
    "annotations.csv 파일에는 결절의 크기를 나타내는 `diameter_mm` 컬럼이 있다. 이를 이용해 결절 크기의 분포를 포함해서 train 데이터와 valid 데이터를 구성할 수 있다. 이런 값이 없는 상태로 valid 데이터를 만들면 극단적인 값만 가질 수 있다."
   ],
   "metadata": {
    "collapsed": false,
    "pycharm": {
     "name": "#%% md\n"
    }
   }
  },
  {
   "cell_type": "code",
   "execution_count": 10,
   "outputs": [
    {
     "data": {
      "text/plain": "                                              seriesuid      coordX  \\\n0     1.3.6.1.4.1.14519.5.2.1.6279.6001.100225287222... -128.699421   \n1     1.3.6.1.4.1.14519.5.2.1.6279.6001.100225287222...  103.783651   \n2     1.3.6.1.4.1.14519.5.2.1.6279.6001.100398138793...   69.639017   \n3     1.3.6.1.4.1.14519.5.2.1.6279.6001.100621383016...  -24.013824   \n4     1.3.6.1.4.1.14519.5.2.1.6279.6001.100621383016...    2.441547   \n...                                                 ...         ...   \n1181  1.3.6.1.4.1.14519.5.2.1.6279.6001.994459772950... -160.856298   \n1182  1.3.6.1.4.1.14519.5.2.1.6279.6001.994459772950... -102.189570   \n1183  1.3.6.1.4.1.14519.5.2.1.6279.6001.994459772950...  -37.535409   \n1184  1.3.6.1.4.1.14519.5.2.1.6279.6001.997611074084...   43.196112   \n1185  1.3.6.1.4.1.14519.5.2.1.6279.6001.997611074084...  -21.958478   \n\n          coordY      coordZ  diameter_mm  \n0    -175.319272 -298.387506     5.651471  \n1    -211.925149 -227.121250     4.224708  \n2    -140.944586  876.374496     5.786348  \n3     192.102405 -391.081276     8.143262  \n4     172.464881 -405.493732    18.545150  \n...          ...         ...          ...  \n1181  -28.560349 -269.168728     5.053694  \n1182  -73.865766 -220.536241     4.556101  \n1183   64.041949 -127.687101     4.357368  \n1184   74.438486 -200.523314     4.277203  \n1185   33.486096 -155.292026    23.802913  \n\n[1186 rows x 5 columns]",
      "text/html": "<div>\n<style scoped>\n    .dataframe tbody tr th:only-of-type {\n        vertical-align: middle;\n    }\n\n    .dataframe tbody tr th {\n        vertical-align: top;\n    }\n\n    .dataframe thead th {\n        text-align: right;\n    }\n</style>\n<table border=\"1\" class=\"dataframe\">\n  <thead>\n    <tr style=\"text-align: right;\">\n      <th></th>\n      <th>seriesuid</th>\n      <th>coordX</th>\n      <th>coordY</th>\n      <th>coordZ</th>\n      <th>diameter_mm</th>\n    </tr>\n  </thead>\n  <tbody>\n    <tr>\n      <th>0</th>\n      <td>1.3.6.1.4.1.14519.5.2.1.6279.6001.100225287222...</td>\n      <td>-128.699421</td>\n      <td>-175.319272</td>\n      <td>-298.387506</td>\n      <td>5.651471</td>\n    </tr>\n    <tr>\n      <th>1</th>\n      <td>1.3.6.1.4.1.14519.5.2.1.6279.6001.100225287222...</td>\n      <td>103.783651</td>\n      <td>-211.925149</td>\n      <td>-227.121250</td>\n      <td>4.224708</td>\n    </tr>\n    <tr>\n      <th>2</th>\n      <td>1.3.6.1.4.1.14519.5.2.1.6279.6001.100398138793...</td>\n      <td>69.639017</td>\n      <td>-140.944586</td>\n      <td>876.374496</td>\n      <td>5.786348</td>\n    </tr>\n    <tr>\n      <th>3</th>\n      <td>1.3.6.1.4.1.14519.5.2.1.6279.6001.100621383016...</td>\n      <td>-24.013824</td>\n      <td>192.102405</td>\n      <td>-391.081276</td>\n      <td>8.143262</td>\n    </tr>\n    <tr>\n      <th>4</th>\n      <td>1.3.6.1.4.1.14519.5.2.1.6279.6001.100621383016...</td>\n      <td>2.441547</td>\n      <td>172.464881</td>\n      <td>-405.493732</td>\n      <td>18.545150</td>\n    </tr>\n    <tr>\n      <th>...</th>\n      <td>...</td>\n      <td>...</td>\n      <td>...</td>\n      <td>...</td>\n      <td>...</td>\n    </tr>\n    <tr>\n      <th>1181</th>\n      <td>1.3.6.1.4.1.14519.5.2.1.6279.6001.994459772950...</td>\n      <td>-160.856298</td>\n      <td>-28.560349</td>\n      <td>-269.168728</td>\n      <td>5.053694</td>\n    </tr>\n    <tr>\n      <th>1182</th>\n      <td>1.3.6.1.4.1.14519.5.2.1.6279.6001.994459772950...</td>\n      <td>-102.189570</td>\n      <td>-73.865766</td>\n      <td>-220.536241</td>\n      <td>4.556101</td>\n    </tr>\n    <tr>\n      <th>1183</th>\n      <td>1.3.6.1.4.1.14519.5.2.1.6279.6001.994459772950...</td>\n      <td>-37.535409</td>\n      <td>64.041949</td>\n      <td>-127.687101</td>\n      <td>4.357368</td>\n    </tr>\n    <tr>\n      <th>1184</th>\n      <td>1.3.6.1.4.1.14519.5.2.1.6279.6001.997611074084...</td>\n      <td>43.196112</td>\n      <td>74.438486</td>\n      <td>-200.523314</td>\n      <td>4.277203</td>\n    </tr>\n    <tr>\n      <th>1185</th>\n      <td>1.3.6.1.4.1.14519.5.2.1.6279.6001.997611074084...</td>\n      <td>-21.958478</td>\n      <td>33.486096</td>\n      <td>-155.292026</td>\n      <td>23.802913</td>\n    </tr>\n  </tbody>\n</table>\n<p>1186 rows × 5 columns</p>\n</div>"
     },
     "execution_count": 10,
     "metadata": {},
     "output_type": "execute_result"
    }
   ],
   "source": [
    "import pandas as pd\n",
    "\n",
    "anno_path = 'F:\\\\공부/annotations.csv'\n",
    "cand_path = 'F:\\\\공부/candidates.csv'\n",
    "\n",
    "anno = pd.read_csv(anno_path)\n",
    "\n",
    "anno"
   ],
   "metadata": {
    "collapsed": false,
    "pycharm": {
     "name": "#%%\n"
    }
   }
  },
  {
   "cell_type": "code",
   "execution_count": 9,
   "outputs": [
    {
     "data": {
      "text/plain": "                                                seriesuid  coordX  coordY  \\\n0       1.3.6.1.4.1.14519.5.2.1.6279.6001.100225287222...  -56.08  -67.85   \n1       1.3.6.1.4.1.14519.5.2.1.6279.6001.100225287222...   53.21 -244.41   \n2       1.3.6.1.4.1.14519.5.2.1.6279.6001.100225287222...  103.66 -121.80   \n3       1.3.6.1.4.1.14519.5.2.1.6279.6001.100225287222...  -33.66  -72.75   \n4       1.3.6.1.4.1.14519.5.2.1.6279.6001.100225287222...  -32.25  -85.36   \n...                                                   ...     ...     ...   \n551060  1.3.6.1.4.1.14519.5.2.1.6279.6001.997611074084...  -55.66   37.24   \n551061  1.3.6.1.4.1.14519.5.2.1.6279.6001.997611074084...   68.40   70.18   \n551062  1.3.6.1.4.1.14519.5.2.1.6279.6001.997611074084...  -82.29  -27.94   \n551063  1.3.6.1.4.1.14519.5.2.1.6279.6001.997611074084...   38.26   83.50   \n551064  1.3.6.1.4.1.14519.5.2.1.6279.6001.997611074084...  -63.37   -9.71   \n\n        coordZ  class  \n0      -311.92      0  \n1      -245.17      0  \n2      -286.62      0  \n3      -308.41      0  \n4      -362.51      0  \n...        ...    ...  \n551060 -110.42      0  \n551061 -109.72      0  \n551062 -106.92      0  \n551063 -102.71      0  \n551064 -111.12      0  \n\n[551065 rows x 5 columns]",
      "text/html": "<div>\n<style scoped>\n    .dataframe tbody tr th:only-of-type {\n        vertical-align: middle;\n    }\n\n    .dataframe tbody tr th {\n        vertical-align: top;\n    }\n\n    .dataframe thead th {\n        text-align: right;\n    }\n</style>\n<table border=\"1\" class=\"dataframe\">\n  <thead>\n    <tr style=\"text-align: right;\">\n      <th></th>\n      <th>seriesuid</th>\n      <th>coordX</th>\n      <th>coordY</th>\n      <th>coordZ</th>\n      <th>class</th>\n    </tr>\n  </thead>\n  <tbody>\n    <tr>\n      <th>0</th>\n      <td>1.3.6.1.4.1.14519.5.2.1.6279.6001.100225287222...</td>\n      <td>-56.08</td>\n      <td>-67.85</td>\n      <td>-311.92</td>\n      <td>0</td>\n    </tr>\n    <tr>\n      <th>1</th>\n      <td>1.3.6.1.4.1.14519.5.2.1.6279.6001.100225287222...</td>\n      <td>53.21</td>\n      <td>-244.41</td>\n      <td>-245.17</td>\n      <td>0</td>\n    </tr>\n    <tr>\n      <th>2</th>\n      <td>1.3.6.1.4.1.14519.5.2.1.6279.6001.100225287222...</td>\n      <td>103.66</td>\n      <td>-121.80</td>\n      <td>-286.62</td>\n      <td>0</td>\n    </tr>\n    <tr>\n      <th>3</th>\n      <td>1.3.6.1.4.1.14519.5.2.1.6279.6001.100225287222...</td>\n      <td>-33.66</td>\n      <td>-72.75</td>\n      <td>-308.41</td>\n      <td>0</td>\n    </tr>\n    <tr>\n      <th>4</th>\n      <td>1.3.6.1.4.1.14519.5.2.1.6279.6001.100225287222...</td>\n      <td>-32.25</td>\n      <td>-85.36</td>\n      <td>-362.51</td>\n      <td>0</td>\n    </tr>\n    <tr>\n      <th>...</th>\n      <td>...</td>\n      <td>...</td>\n      <td>...</td>\n      <td>...</td>\n      <td>...</td>\n    </tr>\n    <tr>\n      <th>551060</th>\n      <td>1.3.6.1.4.1.14519.5.2.1.6279.6001.997611074084...</td>\n      <td>-55.66</td>\n      <td>37.24</td>\n      <td>-110.42</td>\n      <td>0</td>\n    </tr>\n    <tr>\n      <th>551061</th>\n      <td>1.3.6.1.4.1.14519.5.2.1.6279.6001.997611074084...</td>\n      <td>68.40</td>\n      <td>70.18</td>\n      <td>-109.72</td>\n      <td>0</td>\n    </tr>\n    <tr>\n      <th>551062</th>\n      <td>1.3.6.1.4.1.14519.5.2.1.6279.6001.997611074084...</td>\n      <td>-82.29</td>\n      <td>-27.94</td>\n      <td>-106.92</td>\n      <td>0</td>\n    </tr>\n    <tr>\n      <th>551063</th>\n      <td>1.3.6.1.4.1.14519.5.2.1.6279.6001.997611074084...</td>\n      <td>38.26</td>\n      <td>83.50</td>\n      <td>-102.71</td>\n      <td>0</td>\n    </tr>\n    <tr>\n      <th>551064</th>\n      <td>1.3.6.1.4.1.14519.5.2.1.6279.6001.997611074084...</td>\n      <td>-63.37</td>\n      <td>-9.71</td>\n      <td>-111.12</td>\n      <td>0</td>\n    </tr>\n  </tbody>\n</table>\n<p>551065 rows × 5 columns</p>\n</div>"
     },
     "execution_count": 9,
     "metadata": {},
     "output_type": "execute_result"
    }
   ],
   "source": [
    "cand = pd.read_csv(cand_path)\n",
    "\n",
    "cand"
   ],
   "metadata": {
    "collapsed": false,
    "pycharm": {
     "name": "#%%\n"
    }
   }
  },
  {
   "cell_type": "markdown",
   "source": [
    "### train 셋과 valid 셋\n",
    "\n",
    "어떤 지도 학습이든지 train 셋과 valid 셋으로 데이터를 나누게 된다. 다만 이 때 train 셋과 valid 셋 모두 실제 데이터를 대표하도록 만들어야 한다. 둘 중 하나라도 실제 데이터와 다르면 의도한 바와 다르게 모델이 작동할 수 있다.\n",
    "\n",
    "결절을 구분하는 이 예제에서는 데이터를 크기 기준으로 정렬한다음, N번째 데이터를 valid 셋으로 분류할 계획이다. 이렇게 할 경우 주어진 데이터를 나타낼 수 있는 분포를 띌 것이다.\n",
    "\n",
    "다만 문제가 있다. annotation.csv와 candidates.csv는 좌표값이 정확하게 들어맞지 않는다. 동일한 결절을 가리키는지 파악하기 위해서\n",
    "\n",
    "`dsets.py`의 `getCandidateInfoList` 함수를 통해 데이터를 train 셋과 valid 셋으로 나눈다.\n"
   ],
   "metadata": {
    "collapsed": false,
    "pycharm": {
     "name": "#%% md\n"
    }
   }
  },
  {
   "cell_type": "code",
   "execution_count": 12,
   "outputs": [
    {
     "ename": "NameError",
     "evalue": "name 'dsets' is not defined",
     "output_type": "error",
     "traceback": [
      "\u001B[1;31m---------------------------------------------------------------------------\u001B[0m",
      "\u001B[1;31mNameError\u001B[0m                                 Traceback (most recent call last)",
      "\u001B[1;32m~\\AppData\\Local\\Temp\\ipykernel_10992\\1586070094.py\u001B[0m in \u001B[0;36m<module>\u001B[1;34m\u001B[0m\n\u001B[1;32m----> 1\u001B[1;33m \u001B[0mdsets\u001B[0m\u001B[1;33m.\u001B[0m\u001B[0mpy\u001B[0m\u001B[1;33m\u001B[0m\u001B[1;33m\u001B[0m\u001B[0m\n\u001B[0m",
      "\u001B[1;31mNameError\u001B[0m: name 'dsets' is not defined"
     ]
    }
   ],
   "source": [
    "dsets.py"
   ],
   "metadata": {
    "collapsed": false,
    "pycharm": {
     "name": "#%%\n"
    }
   }
  },
  {
   "cell_type": "code",
   "execution_count": null,
   "outputs": [],
   "source": [],
   "metadata": {
    "collapsed": false,
    "pycharm": {
     "name": "#%%\n"
    }
   }
  }
 ],
 "metadata": {
  "kernelspec": {
   "display_name": "Python 3",
   "language": "python",
   "name": "python3"
  },
  "language_info": {
   "codemirror_mode": {
    "name": "ipython",
    "version": 2
   },
   "file_extension": ".py",
   "mimetype": "text/x-python",
   "name": "python",
   "nbconvert_exporter": "python",
   "pygments_lexer": "ipython2",
   "version": "2.7.6"
  }
 },
 "nbformat": 4,
 "nbformat_minor": 0
}